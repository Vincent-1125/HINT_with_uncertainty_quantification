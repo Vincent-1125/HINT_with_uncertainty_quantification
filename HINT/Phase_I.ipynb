{
 "cells": [
  {
   "cell_type": "code",
   "execution_count": 1,
   "metadata": {},
   "outputs": [],
   "source": [
    "## 1. import \n",
    "## 2. input & hyperparameter\n",
    "## 3. pretrain \n",
    "## 4. 'dataloader, model build, train, inference'"
   ]
  },
  {
   "cell_type": "code",
   "execution_count": null,
   "metadata": {},
   "outputs": [],
   "source": [
    "## 1. import \n",
    "import torch, os, sys\n",
    "torch.manual_seed(0) \n",
    "sys.path.append('.')\n",
    "from HINT.dataloader import csv_three_feature_2_dataloader, generate_admet_dataloader_lst, csv_three_feature_2_complete_dataloader\n",
    "from HINT.molecule_encode import MPNN, ADMET \n",
    "from HINT.icdcode_encode import GRAM, build_icdcode2ancestor_dict\n",
    "from HINT.protocol_encode import Protocol_Embedding\n",
    "from HINT.model import Interaction, HINT_nograph, HINTModel\n",
    "device = torch.device(\"cpu\")\n",
    "if not os.path.exists(\"figure\"):\n",
    "\tos.makedirs(\"figure\")"
   ]
  },
  {
   "cell_type": "code",
   "execution_count": null,
   "metadata": {},
   "outputs": [],
   "source": [
    "## 2. data\n",
    "base_name = 'phase_I' \n",
    "# base_name = \"toy\" \n",
    "datafolder = \"data\"\n",
    "train_file = os.path.join(datafolder, base_name + '_train.csv')\n",
    "valid_file = os.path.join(datafolder, base_name + '_valid.csv')\n",
    "test_file = os.path.join(datafolder, base_name + '_test.csv')\n"
   ]
  },
  {
   "cell_type": "code",
   "execution_count": null,
   "metadata": {},
   "outputs": [],
   "source": []
  },
  {
   "cell_type": "code",
   "execution_count": null,
   "metadata": {},
   "outputs": [],
   "source": [
    "## 4. dataloader, model build, train, inference\n",
    "train_loader = csv_three_feature_2_dataloader(train_file, shuffle=True, batch_size=32) \n",
    "valid_loader = csv_three_feature_2_dataloader(valid_file, shuffle=False, batch_size=32) \n",
    "test_loader = csv_three_feature_2_dataloader(test_file, shuffle=False, batch_size=32) \n"
   ]
  },
  {
   "cell_type": "code",
   "execution_count": null,
   "metadata": {},
   "outputs": [],
   "source": [
    "icdcode2ancestor_dict = build_icdcode2ancestor_dict()\n",
    "gram_model = GRAM(embedding_dim = 50, icdcode2ancestor = icdcode2ancestor_dict, device = device)\n",
    "protocol_model = Protocol_Embedding(output_dim = 50, highway_num=3, device = device)\n"
   ]
  },
  {
   "cell_type": "code",
   "execution_count": null,
   "metadata": {},
   "outputs": [],
   "source": [
    "hint_model_path = \"save_model/\" + base_name + \".ckpt\"\n",
    "if not os.path.exists(hint_model_path):\n",
    "\n",
    "\t## 3. pretrain \n",
    "\tmpnn_model = MPNN(mpnn_hidden_size = 50, mpnn_depth=3, device = device)\n",
    "\tadmet_model_path = \"save_model/admet_model.ckpt\"\n",
    "\tif not os.path.exists(admet_model_path):\n",
    "\t\tadmet_dataloader_lst = generate_admet_dataloader_lst(batch_size=32)\n",
    "\t\tadmet_trainloader_lst = [i[0] for i in admet_dataloader_lst]\n",
    "\t\tadmet_testloader_lst = [i[1] for i in admet_dataloader_lst]\n",
    "\t\tadmet_model = ADMET(molecule_encoder = mpnn_model, \n",
    "\t\t\t\t\t\t\thighway_num=2, \n",
    "\t\t\t\t\t\t\tdevice = device, \n",
    "\t\t\t\t\t\t\tepoch=3, \n",
    "\t\t\t\t\t\t\tlr=5e-4, \n",
    "\t\t\t\t\t\t\tweight_decay=0, \n",
    "\t\t\t\t\t\t\tsave_name = 'admet_')\n",
    "\t\tadmet_model.train(admet_trainloader_lst, admet_testloader_lst)\n",
    "\t\ttorch.save(admet_model, admet_model_path)\n",
    "\telse:\n",
    "\t\tadmet_model = torch.load(admet_model_path)\n",
    "\t\tadmet_model = admet_model.to(device)\n",
    "\t\tadmet_model.set_device(device)\n",
    "\n",
    "\n",
    "\n",
    "\n",
    "\tmodel = HINTModel(molecule_encoder = mpnn_model, \n",
    "\t\t\t disease_encoder = gram_model, \n",
    "\t\t\t protocol_encoder = protocol_model,\n",
    "\t\t\t device = device, \n",
    "\t\t\t global_embed_size = 50, \n",
    "\t\t\t highway_num_layer = 2,\n",
    "\t\t\t prefix_name = base_name, \n",
    "\t\t\t gnn_hidden_size = 50,  \n",
    "\t\t\t epoch = 5,\n",
    "\t\t\t lr = 1e-3, \n",
    "\t\t\t weight_decay = 0, \n",
    "\t\t\t)\n",
    "\tmodel.init_pretrain(admet_model)\n",
    "\tmodel.learn(train_loader, valid_loader, test_loader)\n",
    "\tmodel.bootstrap_test(test_loader)\n",
    "\ttorch.save(model, hint_model_path)\n",
    "else:\n",
    "\tmodel = torch.load(hint_model_path)\n",
    "\tmodel.bootstrap_test(test_loader)\n"
   ]
  },
  {
   "cell_type": "code",
   "execution_count": null,
   "metadata": {},
   "outputs": [],
   "source": []
  },
  {
   "cell_type": "code",
   "execution_count": null,
   "metadata": {},
   "outputs": [],
   "source": []
  },
  {
   "cell_type": "code",
   "execution_count": null,
   "metadata": {},
   "outputs": [],
   "source": []
  }
 ],
 "metadata": {
  "kernelspec": {
   "display_name": "d2l",
   "language": "python",
   "name": "python3"
  },
  "language_info": {
   "codemirror_mode": {
    "name": "ipython",
    "version": 3
   },
   "file_extension": ".py",
   "mimetype": "text/x-python",
   "name": "python",
   "nbconvert_exporter": "python",
   "pygments_lexer": "ipython3",
   "version": "3.9.16"
  },
  "orig_nbformat": 4
 },
 "nbformat": 4,
 "nbformat_minor": 2
}
